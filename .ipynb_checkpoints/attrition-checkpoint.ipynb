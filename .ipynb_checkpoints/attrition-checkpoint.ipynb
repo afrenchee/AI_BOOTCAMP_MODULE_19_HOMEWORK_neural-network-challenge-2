{
 "cells": [
  {
   "cell_type": "markdown",
   "metadata": {
    "id": "alIIEHibGc3M"
   },
   "source": [
    "## Part 1: Preprocessing"
   ]
  },
  {
   "cell_type": "code",
   "execution_count": 1,
   "metadata": {
    "colab": {
     "base_uri": "https://localhost:8080/",
     "height": 325
    },
    "id": "6eDUJ4NtGc3P",
    "outputId": "2480098c-135c-4cbf-9552-018494ee8ff5"
   },
   "outputs": [
    {
     "data": {
      "text/html": [
       "<div>\n",
       "<style scoped>\n",
       "    .dataframe tbody tr th:only-of-type {\n",
       "        vertical-align: middle;\n",
       "    }\n",
       "\n",
       "    .dataframe tbody tr th {\n",
       "        vertical-align: top;\n",
       "    }\n",
       "\n",
       "    .dataframe thead th {\n",
       "        text-align: right;\n",
       "    }\n",
       "</style>\n",
       "<table border=\"1\" class=\"dataframe\">\n",
       "  <thead>\n",
       "    <tr style=\"text-align: right;\">\n",
       "      <th></th>\n",
       "      <th>Age</th>\n",
       "      <th>Attrition</th>\n",
       "      <th>BusinessTravel</th>\n",
       "      <th>Department</th>\n",
       "      <th>DistanceFromHome</th>\n",
       "      <th>Education</th>\n",
       "      <th>EducationField</th>\n",
       "      <th>EnvironmentSatisfaction</th>\n",
       "      <th>HourlyRate</th>\n",
       "      <th>JobInvolvement</th>\n",
       "      <th>...</th>\n",
       "      <th>PerformanceRating</th>\n",
       "      <th>RelationshipSatisfaction</th>\n",
       "      <th>StockOptionLevel</th>\n",
       "      <th>TotalWorkingYears</th>\n",
       "      <th>TrainingTimesLastYear</th>\n",
       "      <th>WorkLifeBalance</th>\n",
       "      <th>YearsAtCompany</th>\n",
       "      <th>YearsInCurrentRole</th>\n",
       "      <th>YearsSinceLastPromotion</th>\n",
       "      <th>YearsWithCurrManager</th>\n",
       "    </tr>\n",
       "  </thead>\n",
       "  <tbody>\n",
       "    <tr>\n",
       "      <th>0</th>\n",
       "      <td>41</td>\n",
       "      <td>Yes</td>\n",
       "      <td>Travel_Rarely</td>\n",
       "      <td>Sales</td>\n",
       "      <td>1</td>\n",
       "      <td>2</td>\n",
       "      <td>Life Sciences</td>\n",
       "      <td>2</td>\n",
       "      <td>94</td>\n",
       "      <td>3</td>\n",
       "      <td>...</td>\n",
       "      <td>3</td>\n",
       "      <td>1</td>\n",
       "      <td>0</td>\n",
       "      <td>8</td>\n",
       "      <td>0</td>\n",
       "      <td>1</td>\n",
       "      <td>6</td>\n",
       "      <td>4</td>\n",
       "      <td>0</td>\n",
       "      <td>5</td>\n",
       "    </tr>\n",
       "    <tr>\n",
       "      <th>1</th>\n",
       "      <td>49</td>\n",
       "      <td>No</td>\n",
       "      <td>Travel_Frequently</td>\n",
       "      <td>Research &amp; Development</td>\n",
       "      <td>8</td>\n",
       "      <td>1</td>\n",
       "      <td>Life Sciences</td>\n",
       "      <td>3</td>\n",
       "      <td>61</td>\n",
       "      <td>2</td>\n",
       "      <td>...</td>\n",
       "      <td>4</td>\n",
       "      <td>4</td>\n",
       "      <td>1</td>\n",
       "      <td>10</td>\n",
       "      <td>3</td>\n",
       "      <td>3</td>\n",
       "      <td>10</td>\n",
       "      <td>7</td>\n",
       "      <td>1</td>\n",
       "      <td>7</td>\n",
       "    </tr>\n",
       "    <tr>\n",
       "      <th>2</th>\n",
       "      <td>37</td>\n",
       "      <td>Yes</td>\n",
       "      <td>Travel_Rarely</td>\n",
       "      <td>Research &amp; Development</td>\n",
       "      <td>2</td>\n",
       "      <td>2</td>\n",
       "      <td>Other</td>\n",
       "      <td>4</td>\n",
       "      <td>92</td>\n",
       "      <td>2</td>\n",
       "      <td>...</td>\n",
       "      <td>3</td>\n",
       "      <td>2</td>\n",
       "      <td>0</td>\n",
       "      <td>7</td>\n",
       "      <td>3</td>\n",
       "      <td>3</td>\n",
       "      <td>0</td>\n",
       "      <td>0</td>\n",
       "      <td>0</td>\n",
       "      <td>0</td>\n",
       "    </tr>\n",
       "    <tr>\n",
       "      <th>3</th>\n",
       "      <td>33</td>\n",
       "      <td>No</td>\n",
       "      <td>Travel_Frequently</td>\n",
       "      <td>Research &amp; Development</td>\n",
       "      <td>3</td>\n",
       "      <td>4</td>\n",
       "      <td>Life Sciences</td>\n",
       "      <td>4</td>\n",
       "      <td>56</td>\n",
       "      <td>3</td>\n",
       "      <td>...</td>\n",
       "      <td>3</td>\n",
       "      <td>3</td>\n",
       "      <td>0</td>\n",
       "      <td>8</td>\n",
       "      <td>3</td>\n",
       "      <td>3</td>\n",
       "      <td>8</td>\n",
       "      <td>7</td>\n",
       "      <td>3</td>\n",
       "      <td>0</td>\n",
       "    </tr>\n",
       "    <tr>\n",
       "      <th>4</th>\n",
       "      <td>27</td>\n",
       "      <td>No</td>\n",
       "      <td>Travel_Rarely</td>\n",
       "      <td>Research &amp; Development</td>\n",
       "      <td>2</td>\n",
       "      <td>1</td>\n",
       "      <td>Medical</td>\n",
       "      <td>1</td>\n",
       "      <td>40</td>\n",
       "      <td>3</td>\n",
       "      <td>...</td>\n",
       "      <td>3</td>\n",
       "      <td>4</td>\n",
       "      <td>1</td>\n",
       "      <td>6</td>\n",
       "      <td>3</td>\n",
       "      <td>3</td>\n",
       "      <td>2</td>\n",
       "      <td>2</td>\n",
       "      <td>2</td>\n",
       "      <td>2</td>\n",
       "    </tr>\n",
       "  </tbody>\n",
       "</table>\n",
       "<p>5 rows × 27 columns</p>\n",
       "</div>"
      ],
      "text/plain": [
       "   Age Attrition     BusinessTravel              Department  DistanceFromHome  \\\n",
       "0   41       Yes      Travel_Rarely                   Sales                 1   \n",
       "1   49        No  Travel_Frequently  Research & Development                 8   \n",
       "2   37       Yes      Travel_Rarely  Research & Development                 2   \n",
       "3   33        No  Travel_Frequently  Research & Development                 3   \n",
       "4   27        No      Travel_Rarely  Research & Development                 2   \n",
       "\n",
       "   Education EducationField  EnvironmentSatisfaction  HourlyRate  \\\n",
       "0          2  Life Sciences                        2          94   \n",
       "1          1  Life Sciences                        3          61   \n",
       "2          2          Other                        4          92   \n",
       "3          4  Life Sciences                        4          56   \n",
       "4          1        Medical                        1          40   \n",
       "\n",
       "   JobInvolvement  ...  PerformanceRating RelationshipSatisfaction  \\\n",
       "0               3  ...                  3                        1   \n",
       "1               2  ...                  4                        4   \n",
       "2               2  ...                  3                        2   \n",
       "3               3  ...                  3                        3   \n",
       "4               3  ...                  3                        4   \n",
       "\n",
       "   StockOptionLevel TotalWorkingYears  TrainingTimesLastYear WorkLifeBalance  \\\n",
       "0                 0                 8                      0               1   \n",
       "1                 1                10                      3               3   \n",
       "2                 0                 7                      3               3   \n",
       "3                 0                 8                      3               3   \n",
       "4                 1                 6                      3               3   \n",
       "\n",
       "   YearsAtCompany  YearsInCurrentRole  YearsSinceLastPromotion  \\\n",
       "0               6                   4                        0   \n",
       "1              10                   7                        1   \n",
       "2               0                   0                        0   \n",
       "3               8                   7                        3   \n",
       "4               2                   2                        2   \n",
       "\n",
       "   YearsWithCurrManager  \n",
       "0                     5  \n",
       "1                     7  \n",
       "2                     0  \n",
       "3                     0  \n",
       "4                     2  \n",
       "\n",
       "[5 rows x 27 columns]"
      ]
     },
     "execution_count": 1,
     "metadata": {},
     "output_type": "execute_result"
    }
   ],
   "source": [
    "# Import our dependencies\n",
    "from sklearn.model_selection import train_test_split\n",
    "from sklearn.preprocessing import StandardScaler\n",
    "import pandas as pd\n",
    "import numpy as np\n",
    "from tensorflow.keras.models import Model\n",
    "from tensorflow.keras import layers\n",
    "\n",
    "#  Import and read the attrition data\n",
    "attrition_df = pd.read_csv('https://static.bc-edx.com/ai/ail-v-1-0/m19/lms/datasets/attrition.csv')\n",
    "attrition_df.head()"
   ]
  },
  {
   "cell_type": "code",
   "execution_count": 2,
   "metadata": {
    "colab": {
     "base_uri": "https://localhost:8080/"
    },
    "id": "g22aQSY4Gc3Q",
    "outputId": "1f5c13c1-b981-4e40-a7ed-dd3fe6f1b81e"
   },
   "outputs": [
    {
     "name": "stdout",
     "output_type": "stream",
     "text": [
      "Age                         43\n",
      "Attrition                    2\n",
      "BusinessTravel               3\n",
      "Department                   3\n",
      "DistanceFromHome            29\n",
      "Education                    5\n",
      "EducationField               6\n",
      "EnvironmentSatisfaction      4\n",
      "HourlyRate                  71\n",
      "JobInvolvement               4\n",
      "JobLevel                     5\n",
      "JobRole                      9\n",
      "JobSatisfaction              4\n",
      "MaritalStatus                3\n",
      "NumCompaniesWorked          10\n",
      "OverTime                     2\n",
      "PercentSalaryHike           15\n",
      "PerformanceRating            2\n",
      "RelationshipSatisfaction     4\n",
      "StockOptionLevel             4\n",
      "TotalWorkingYears           40\n",
      "TrainingTimesLastYear        7\n",
      "WorkLifeBalance              4\n",
      "YearsAtCompany              37\n",
      "YearsInCurrentRole          19\n",
      "YearsSinceLastPromotion     16\n",
      "YearsWithCurrManager        18\n",
      "dtype: int64\n"
     ]
    }
   ],
   "source": [
    "# Determine the number of unique values in each column\n",
    "print(attrition_df.nunique())"
   ]
  },
  {
   "cell_type": "code",
   "execution_count": 5,
   "metadata": {
    "id": "50vMgBEnJbfM"
   },
   "outputs": [
    {
     "data": {
      "text/html": [
       "<div>\n",
       "<style scoped>\n",
       "    .dataframe tbody tr th:only-of-type {\n",
       "        vertical-align: middle;\n",
       "    }\n",
       "\n",
       "    .dataframe tbody tr th {\n",
       "        vertical-align: top;\n",
       "    }\n",
       "\n",
       "    .dataframe thead th {\n",
       "        text-align: right;\n",
       "    }\n",
       "</style>\n",
       "<table border=\"1\" class=\"dataframe\">\n",
       "  <thead>\n",
       "    <tr style=\"text-align: right;\">\n",
       "      <th></th>\n",
       "      <th>Attrition</th>\n",
       "      <th>Department</th>\n",
       "    </tr>\n",
       "  </thead>\n",
       "  <tbody>\n",
       "    <tr>\n",
       "      <th>0</th>\n",
       "      <td>Yes</td>\n",
       "      <td>Sales</td>\n",
       "    </tr>\n",
       "    <tr>\n",
       "      <th>1</th>\n",
       "      <td>No</td>\n",
       "      <td>Research &amp; Development</td>\n",
       "    </tr>\n",
       "    <tr>\n",
       "      <th>2</th>\n",
       "      <td>Yes</td>\n",
       "      <td>Research &amp; Development</td>\n",
       "    </tr>\n",
       "    <tr>\n",
       "      <th>3</th>\n",
       "      <td>No</td>\n",
       "      <td>Research &amp; Development</td>\n",
       "    </tr>\n",
       "    <tr>\n",
       "      <th>4</th>\n",
       "      <td>No</td>\n",
       "      <td>Research &amp; Development</td>\n",
       "    </tr>\n",
       "  </tbody>\n",
       "</table>\n",
       "</div>"
      ],
      "text/plain": [
       "  Attrition              Department\n",
       "0       Yes                   Sales\n",
       "1        No  Research & Development\n",
       "2       Yes  Research & Development\n",
       "3        No  Research & Development\n",
       "4        No  Research & Development"
      ]
     },
     "execution_count": 5,
     "metadata": {},
     "output_type": "execute_result"
    }
   ],
   "source": [
    "# Create y_df with the Attrition and Department columns\n",
    "y_df = attrition_df[['Attrition', 'Department']]\n",
    "y_df.head()"
   ]
  },
  {
   "cell_type": "code",
   "execution_count": 9,
   "metadata": {},
   "outputs": [
    {
     "name": "stdout",
     "output_type": "stream",
     "text": [
      "Index(['Age', 'Attrition', 'BusinessTravel', 'Department', 'DistanceFromHome',\n",
      "       'Education', 'EducationField', 'EnvironmentSatisfaction', 'HourlyRate',\n",
      "       'JobInvolvement', 'JobLevel', 'JobRole', 'JobSatisfaction',\n",
      "       'MaritalStatus', 'NumCompaniesWorked', 'OverTime', 'PercentSalaryHike',\n",
      "       'PerformanceRating', 'RelationshipSatisfaction', 'StockOptionLevel',\n",
      "       'TotalWorkingYears', 'TrainingTimesLastYear', 'WorkLifeBalance',\n",
      "       'YearsAtCompany', 'YearsInCurrentRole', 'YearsSinceLastPromotion',\n",
      "       'YearsWithCurrManager'],\n",
      "      dtype='object')\n"
     ]
    }
   ],
   "source": [
    "# List all column names in the DataFrame\n",
    "print(attrition_df.columns)"
   ]
  },
  {
   "cell_type": "code",
   "execution_count": 11,
   "metadata": {
    "colab": {
     "base_uri": "https://localhost:8080/"
    },
    "id": "Virka0zLGc3R",
    "outputId": "dd5aee3a-9458-4ba6-e857-1b234de40915"
   },
   "outputs": [
    {
     "data": {
      "text/plain": [
       "Age                        int64\n",
       "DistanceFromHome           int64\n",
       "Education                  int64\n",
       "EnvironmentSatisfaction    int64\n",
       "HourlyRate                 int64\n",
       "JobLevel                   int64\n",
       "NumCompaniesWorked         int64\n",
       "PercentSalaryHike          int64\n",
       "YearsAtCompany             int64\n",
       "YearsInCurrentRole         int64\n",
       "dtype: object"
      ]
     },
     "execution_count": 11,
     "metadata": {},
     "output_type": "execute_result"
    }
   ],
   "source": [
    "# Create a list of at least 10 column names to use as X data\n",
    "selected_columns = [\n",
    "    'Age', 'DistanceFromHome', 'Education', 'EnvironmentSatisfaction', \n",
    "    'HourlyRate', 'JobLevel', 'NumCompaniesWorked', \n",
    "    'PercentSalaryHike', 'YearsAtCompany', 'YearsInCurrentRole'\n",
    "]\n",
    "\n",
    "# Create X_df using the selected columns\n",
    "X_df = attrition_df[selected_columns]\n",
    "\n",
    "# Show the data types for X_df\n",
    "X_df.dtypes\n"
   ]
  },
  {
   "cell_type": "code",
   "execution_count": 13,
   "metadata": {
    "id": "KaJfdOGUMHMR"
   },
   "outputs": [],
   "source": [
    "# Split the data into training and testing sets\n",
    "X_train, X_test, y_train, y_test = train_test_split(X_df, y_df, test_size=0.2, random_state=1)"
   ]
  },
  {
   "cell_type": "code",
   "execution_count": 15,
   "metadata": {
    "colab": {
     "base_uri": "https://localhost:8080/"
    },
    "id": "NYubUJqiLCSp",
    "outputId": "53f31721-571c-4c94-d13e-25a715749593"
   },
   "outputs": [],
   "source": [
    "# Convert non-numeric columns to numeric (if necessary)\n",
    "X_train = pd.get_dummies(X_train)\n",
    "X_test = pd.get_dummies(X_test)\n",
    "\n",
    "# Align columns in train and test datasets\n",
    "X_train, X_test = X_train.align(X_test, join='left', axis=1)\n",
    "X_test = X_test.fillna(0)"
   ]
  },
  {
   "cell_type": "code",
   "execution_count": 17,
   "metadata": {
    "id": "EWA-aIA5Gc3T"
   },
   "outputs": [],
   "source": [
    "# Create a StandardScaler instance\n",
    "scaler = StandardScaler()\n",
    "\n",
    "# Fit the scaler to the training data\n",
    "X_train_scaled = scaler.fit_transform(X_train)\n",
    "\n",
    "# Scale the testing data\n",
    "X_test_scaled = scaler.transform(X_test)"
   ]
  },
  {
   "cell_type": "code",
   "execution_count": 21,
   "metadata": {
    "colab": {
     "base_uri": "https://localhost:8080/"
    },
    "id": "-z0Mky8vQSz4",
    "outputId": "debefc85-c20b-48f5-f4d9-91eadd65d36a"
   },
   "outputs": [],
   "source": [
    "from sklearn.preprocessing import OneHotEncoder\n",
    "\n",
    "# Create a OneHotEncoder for the Department column\n",
    "dept_encoder = OneHotEncoder(sparse_output=False)\n",
    "\n",
    "# Fit and transform the Department column\n",
    "dept_train = dept_encoder.fit_transform(y_train[['Department']])\n",
    "dept_test = dept_encoder.transform(y_test[['Department']])"
   ]
  },
  {
   "cell_type": "code",
   "execution_count": 25,
   "metadata": {
    "colab": {
     "base_uri": "https://localhost:8080/"
    },
    "id": "-G4DSpvFRrk4",
    "outputId": "9842e948-8a55-4b80-8fac-f96714e85589"
   },
   "outputs": [],
   "source": [
    "from sklearn.preprocessing import OneHotEncoder\n",
    "\n",
    "# Create a OneHotEncoder for the Attrition column\n",
    "attrition_encoder = OneHotEncoder(sparse_output=False)\n",
    "\n",
    "# Fit and transform the Attrition column\n",
    "attrition_train = attrition_encoder.fit_transform(y_train[['Attrition']])\n",
    "attrition_test = attrition_encoder.transform(y_test[['Attrition']])"
   ]
  },
  {
   "cell_type": "markdown",
   "metadata": {
    "id": "ykNmu_WWGc3T"
   },
   "source": [
    "## Create, Compile, and Train the Model"
   ]
  },
  {
   "cell_type": "code",
   "execution_count": 27,
   "metadata": {
    "id": "WUptZqmSGc3T"
   },
   "outputs": [
    {
     "name": "stdout",
     "output_type": "stream",
     "text": [
      "Number of input features: 10\n"
     ]
    }
   ],
   "source": [
    "# Find the number of columns in the X training data\n",
    "number_input_features = X_train_scaled.shape[1]\n",
    "print(f\"Number of input features: {number_input_features}\")\n",
    "\n",
    "# Create the input layer\n",
    "input_layer = layers.Input(shape=(number_input_features,))\n",
    "\n",
    "# Create at least two shared layers\n",
    "shared_layer_1 = layers.Dense(64, activation=\"relu\")(input_layer)\n",
    "shared_layer_2 = layers.Dense(32, activation=\"relu\")(shared_layer_1)"
   ]
  },
  {
   "cell_type": "code",
   "execution_count": 29,
   "metadata": {
    "id": "JukjTm2yTEqd"
   },
   "outputs": [],
   "source": [
    "# Create a branch for Department\n",
    "department_hidden_layer = layers.Dense(16, activation=\"relu\")(shared_layer_2)\n",
    "department_output_layer = layers.Dense(\n",
    "    dept_train.shape[1], activation=\"softmax\", name=\"Department_Output\"\n",
    ")(department_hidden_layer)"
   ]
  },
  {
   "cell_type": "code",
   "execution_count": 31,
   "metadata": {
    "id": "9OqhUiOJUBkR"
   },
   "outputs": [],
   "source": [
    "# Create a branch for Attrition\n",
    "attrition_hidden_layer = layers.Dense(16, activation=\"relu\")(shared_layer_2)\n",
    "attrition_output_layer = layers.Dense(\n",
    "    attrition_train.shape[1], activation=\"sigmoid\", name=\"Attrition_Output\"\n",
    ")(attrition_hidden_layer)"
   ]
  },
  {
   "cell_type": "code",
   "execution_count": 33,
   "metadata": {
    "colab": {
     "base_uri": "https://localhost:8080/"
    },
    "id": "twmuejdxGc3T",
    "outputId": "25096308-b68b-42e4-e4ea-ae82e97c435a"
   },
   "outputs": [
    {
     "data": {
      "text/html": [
       "<pre style=\"white-space:pre;overflow-x:auto;line-height:normal;font-family:Menlo,'DejaVu Sans Mono',consolas,'Courier New',monospace\"><span style=\"font-weight: bold\">Model: \"functional\"</span>\n",
       "</pre>\n"
      ],
      "text/plain": [
       "\u001b[1mModel: \"functional\"\u001b[0m\n"
      ]
     },
     "metadata": {},
     "output_type": "display_data"
    },
    {
     "data": {
      "text/html": [
       "<pre style=\"white-space:pre;overflow-x:auto;line-height:normal;font-family:Menlo,'DejaVu Sans Mono',consolas,'Courier New',monospace\">┏━━━━━━━━━━━━━━━━━━━━━┳━━━━━━━━━━━━━━━━━━━┳━━━━━━━━━━━━┳━━━━━━━━━━━━━━━━━━━┓\n",
       "┃<span style=\"font-weight: bold\"> Layer (type)        </span>┃<span style=\"font-weight: bold\"> Output Shape      </span>┃<span style=\"font-weight: bold\">    Param # </span>┃<span style=\"font-weight: bold\"> Connected to      </span>┃\n",
       "┡━━━━━━━━━━━━━━━━━━━━━╇━━━━━━━━━━━━━━━━━━━╇━━━━━━━━━━━━╇━━━━━━━━━━━━━━━━━━━┩\n",
       "│ input_layer         │ (<span style=\"color: #00d7ff; text-decoration-color: #00d7ff\">None</span>, <span style=\"color: #00af00; text-decoration-color: #00af00\">10</span>)        │          <span style=\"color: #00af00; text-decoration-color: #00af00\">0</span> │ -                 │\n",
       "│ (<span style=\"color: #0087ff; text-decoration-color: #0087ff\">InputLayer</span>)        │                   │            │                   │\n",
       "├─────────────────────┼───────────────────┼────────────┼───────────────────┤\n",
       "│ dense (<span style=\"color: #0087ff; text-decoration-color: #0087ff\">Dense</span>)       │ (<span style=\"color: #00d7ff; text-decoration-color: #00d7ff\">None</span>, <span style=\"color: #00af00; text-decoration-color: #00af00\">64</span>)        │        <span style=\"color: #00af00; text-decoration-color: #00af00\">704</span> │ input_layer[<span style=\"color: #00af00; text-decoration-color: #00af00\">0</span>][<span style=\"color: #00af00; text-decoration-color: #00af00\">0</span>] │\n",
       "├─────────────────────┼───────────────────┼────────────┼───────────────────┤\n",
       "│ dense_1 (<span style=\"color: #0087ff; text-decoration-color: #0087ff\">Dense</span>)     │ (<span style=\"color: #00d7ff; text-decoration-color: #00d7ff\">None</span>, <span style=\"color: #00af00; text-decoration-color: #00af00\">32</span>)        │      <span style=\"color: #00af00; text-decoration-color: #00af00\">2,080</span> │ dense[<span style=\"color: #00af00; text-decoration-color: #00af00\">0</span>][<span style=\"color: #00af00; text-decoration-color: #00af00\">0</span>]       │\n",
       "├─────────────────────┼───────────────────┼────────────┼───────────────────┤\n",
       "│ dense_2 (<span style=\"color: #0087ff; text-decoration-color: #0087ff\">Dense</span>)     │ (<span style=\"color: #00d7ff; text-decoration-color: #00d7ff\">None</span>, <span style=\"color: #00af00; text-decoration-color: #00af00\">16</span>)        │        <span style=\"color: #00af00; text-decoration-color: #00af00\">528</span> │ dense_1[<span style=\"color: #00af00; text-decoration-color: #00af00\">0</span>][<span style=\"color: #00af00; text-decoration-color: #00af00\">0</span>]     │\n",
       "├─────────────────────┼───────────────────┼────────────┼───────────────────┤\n",
       "│ dense_3 (<span style=\"color: #0087ff; text-decoration-color: #0087ff\">Dense</span>)     │ (<span style=\"color: #00d7ff; text-decoration-color: #00d7ff\">None</span>, <span style=\"color: #00af00; text-decoration-color: #00af00\">16</span>)        │        <span style=\"color: #00af00; text-decoration-color: #00af00\">528</span> │ dense_1[<span style=\"color: #00af00; text-decoration-color: #00af00\">0</span>][<span style=\"color: #00af00; text-decoration-color: #00af00\">0</span>]     │\n",
       "├─────────────────────┼───────────────────┼────────────┼───────────────────┤\n",
       "│ Department_Output   │ (<span style=\"color: #00d7ff; text-decoration-color: #00d7ff\">None</span>, <span style=\"color: #00af00; text-decoration-color: #00af00\">3</span>)         │         <span style=\"color: #00af00; text-decoration-color: #00af00\">51</span> │ dense_2[<span style=\"color: #00af00; text-decoration-color: #00af00\">0</span>][<span style=\"color: #00af00; text-decoration-color: #00af00\">0</span>]     │\n",
       "│ (<span style=\"color: #0087ff; text-decoration-color: #0087ff\">Dense</span>)             │                   │            │                   │\n",
       "├─────────────────────┼───────────────────┼────────────┼───────────────────┤\n",
       "│ Attrition_Output    │ (<span style=\"color: #00d7ff; text-decoration-color: #00d7ff\">None</span>, <span style=\"color: #00af00; text-decoration-color: #00af00\">2</span>)         │         <span style=\"color: #00af00; text-decoration-color: #00af00\">34</span> │ dense_3[<span style=\"color: #00af00; text-decoration-color: #00af00\">0</span>][<span style=\"color: #00af00; text-decoration-color: #00af00\">0</span>]     │\n",
       "│ (<span style=\"color: #0087ff; text-decoration-color: #0087ff\">Dense</span>)             │                   │            │                   │\n",
       "└─────────────────────┴───────────────────┴────────────┴───────────────────┘\n",
       "</pre>\n"
      ],
      "text/plain": [
       "┏━━━━━━━━━━━━━━━━━━━━━┳━━━━━━━━━━━━━━━━━━━┳━━━━━━━━━━━━┳━━━━━━━━━━━━━━━━━━━┓\n",
       "┃\u001b[1m \u001b[0m\u001b[1mLayer (type)       \u001b[0m\u001b[1m \u001b[0m┃\u001b[1m \u001b[0m\u001b[1mOutput Shape     \u001b[0m\u001b[1m \u001b[0m┃\u001b[1m \u001b[0m\u001b[1m   Param #\u001b[0m\u001b[1m \u001b[0m┃\u001b[1m \u001b[0m\u001b[1mConnected to     \u001b[0m\u001b[1m \u001b[0m┃\n",
       "┡━━━━━━━━━━━━━━━━━━━━━╇━━━━━━━━━━━━━━━━━━━╇━━━━━━━━━━━━╇━━━━━━━━━━━━━━━━━━━┩\n",
       "│ input_layer         │ (\u001b[38;5;45mNone\u001b[0m, \u001b[38;5;34m10\u001b[0m)        │          \u001b[38;5;34m0\u001b[0m │ -                 │\n",
       "│ (\u001b[38;5;33mInputLayer\u001b[0m)        │                   │            │                   │\n",
       "├─────────────────────┼───────────────────┼────────────┼───────────────────┤\n",
       "│ dense (\u001b[38;5;33mDense\u001b[0m)       │ (\u001b[38;5;45mNone\u001b[0m, \u001b[38;5;34m64\u001b[0m)        │        \u001b[38;5;34m704\u001b[0m │ input_layer[\u001b[38;5;34m0\u001b[0m][\u001b[38;5;34m0\u001b[0m] │\n",
       "├─────────────────────┼───────────────────┼────────────┼───────────────────┤\n",
       "│ dense_1 (\u001b[38;5;33mDense\u001b[0m)     │ (\u001b[38;5;45mNone\u001b[0m, \u001b[38;5;34m32\u001b[0m)        │      \u001b[38;5;34m2,080\u001b[0m │ dense[\u001b[38;5;34m0\u001b[0m][\u001b[38;5;34m0\u001b[0m]       │\n",
       "├─────────────────────┼───────────────────┼────────────┼───────────────────┤\n",
       "│ dense_2 (\u001b[38;5;33mDense\u001b[0m)     │ (\u001b[38;5;45mNone\u001b[0m, \u001b[38;5;34m16\u001b[0m)        │        \u001b[38;5;34m528\u001b[0m │ dense_1[\u001b[38;5;34m0\u001b[0m][\u001b[38;5;34m0\u001b[0m]     │\n",
       "├─────────────────────┼───────────────────┼────────────┼───────────────────┤\n",
       "│ dense_3 (\u001b[38;5;33mDense\u001b[0m)     │ (\u001b[38;5;45mNone\u001b[0m, \u001b[38;5;34m16\u001b[0m)        │        \u001b[38;5;34m528\u001b[0m │ dense_1[\u001b[38;5;34m0\u001b[0m][\u001b[38;5;34m0\u001b[0m]     │\n",
       "├─────────────────────┼───────────────────┼────────────┼───────────────────┤\n",
       "│ Department_Output   │ (\u001b[38;5;45mNone\u001b[0m, \u001b[38;5;34m3\u001b[0m)         │         \u001b[38;5;34m51\u001b[0m │ dense_2[\u001b[38;5;34m0\u001b[0m][\u001b[38;5;34m0\u001b[0m]     │\n",
       "│ (\u001b[38;5;33mDense\u001b[0m)             │                   │            │                   │\n",
       "├─────────────────────┼───────────────────┼────────────┼───────────────────┤\n",
       "│ Attrition_Output    │ (\u001b[38;5;45mNone\u001b[0m, \u001b[38;5;34m2\u001b[0m)         │         \u001b[38;5;34m34\u001b[0m │ dense_3[\u001b[38;5;34m0\u001b[0m][\u001b[38;5;34m0\u001b[0m]     │\n",
       "│ (\u001b[38;5;33mDense\u001b[0m)             │                   │            │                   │\n",
       "└─────────────────────┴───────────────────┴────────────┴───────────────────┘\n"
      ]
     },
     "metadata": {},
     "output_type": "display_data"
    },
    {
     "data": {
      "text/html": [
       "<pre style=\"white-space:pre;overflow-x:auto;line-height:normal;font-family:Menlo,'DejaVu Sans Mono',consolas,'Courier New',monospace\"><span style=\"font-weight: bold\"> Total params: </span><span style=\"color: #00af00; text-decoration-color: #00af00\">3,925</span> (15.33 KB)\n",
       "</pre>\n"
      ],
      "text/plain": [
       "\u001b[1m Total params: \u001b[0m\u001b[38;5;34m3,925\u001b[0m (15.33 KB)\n"
      ]
     },
     "metadata": {},
     "output_type": "display_data"
    },
    {
     "data": {
      "text/html": [
       "<pre style=\"white-space:pre;overflow-x:auto;line-height:normal;font-family:Menlo,'DejaVu Sans Mono',consolas,'Courier New',monospace\"><span style=\"font-weight: bold\"> Trainable params: </span><span style=\"color: #00af00; text-decoration-color: #00af00\">3,925</span> (15.33 KB)\n",
       "</pre>\n"
      ],
      "text/plain": [
       "\u001b[1m Trainable params: \u001b[0m\u001b[38;5;34m3,925\u001b[0m (15.33 KB)\n"
      ]
     },
     "metadata": {},
     "output_type": "display_data"
    },
    {
     "data": {
      "text/html": [
       "<pre style=\"white-space:pre;overflow-x:auto;line-height:normal;font-family:Menlo,'DejaVu Sans Mono',consolas,'Courier New',monospace\"><span style=\"font-weight: bold\"> Non-trainable params: </span><span style=\"color: #00af00; text-decoration-color: #00af00\">0</span> (0.00 B)\n",
       "</pre>\n"
      ],
      "text/plain": [
       "\u001b[1m Non-trainable params: \u001b[0m\u001b[38;5;34m0\u001b[0m (0.00 B)\n"
      ]
     },
     "metadata": {},
     "output_type": "display_data"
    }
   ],
   "source": [
    "# Create the model\n",
    "model = Model(\n",
    "    inputs=input_layer,\n",
    "    outputs=[department_output_layer, attrition_output_layer],\n",
    ")\n",
    "\n",
    "# Compile the model\n",
    "model.compile(\n",
    "    optimizer=\"adam\",\n",
    "    loss={\n",
    "        \"Department_Output\": \"categorical_crossentropy\",\n",
    "        \"Attrition_Output\": \"binary_crossentropy\",\n",
    "    },\n",
    "    metrics={\n",
    "        \"Department_Output\": \"accuracy\",\n",
    "        \"Attrition_Output\": \"accuracy\",\n",
    "    },\n",
    ")\n",
    "\n",
    "# Summarize the model\n",
    "model.summary()"
   ]
  },
  {
   "cell_type": "code",
   "execution_count": 35,
   "metadata": {
    "colab": {
     "base_uri": "https://localhost:8080/"
    },
    "id": "c8oGy0dpGc3U",
    "outputId": "cc667d43-28cf-42d4-d719-c2bc02888d30"
   },
   "outputs": [
    {
     "name": "stdout",
     "output_type": "stream",
     "text": [
      "Epoch 1/50\n",
      "\u001b[1m37/37\u001b[0m \u001b[32m━━━━━━━━━━━━━━━━━━━━\u001b[0m\u001b[37m\u001b[0m \u001b[1m1s\u001b[0m 5ms/step - Attrition_Output_accuracy: 0.5872 - Attrition_Output_loss: 0.6851 - Department_Output_accuracy: 0.5527 - Department_Output_loss: 1.0164 - loss: 1.7015 - val_Attrition_Output_accuracy: 0.8027 - val_Attrition_Output_loss: 0.5780 - val_Department_Output_accuracy: 0.6327 - val_Department_Output_loss: 0.8482 - val_loss: 1.4434\n",
      "Epoch 2/50\n",
      "\u001b[1m37/37\u001b[0m \u001b[32m━━━━━━━━━━━━━━━━━━━━\u001b[0m\u001b[37m\u001b[0m \u001b[1m0s\u001b[0m 2ms/step - Attrition_Output_accuracy: 0.8510 - Attrition_Output_loss: 0.5132 - Department_Output_accuracy: 0.6608 - Department_Output_loss: 0.8130 - loss: 1.3263 - val_Attrition_Output_accuracy: 0.8027 - val_Attrition_Output_loss: 0.5173 - val_Department_Output_accuracy: 0.6327 - val_Department_Output_loss: 0.7688 - val_loss: 1.3028\n",
      "Epoch 3/50\n",
      "\u001b[1m37/37\u001b[0m \u001b[32m━━━━━━━━━━━━━━━━━━━━\u001b[0m\u001b[37m\u001b[0m \u001b[1m0s\u001b[0m 2ms/step - Attrition_Output_accuracy: 0.8440 - Attrition_Output_loss: 0.4453 - Department_Output_accuracy: 0.6459 - Department_Output_loss: 0.7673 - loss: 1.2126 - val_Attrition_Output_accuracy: 0.8027 - val_Attrition_Output_loss: 0.4983 - val_Department_Output_accuracy: 0.6327 - val_Department_Output_loss: 0.7561 - val_loss: 1.2739\n",
      "Epoch 4/50\n",
      "\u001b[1m37/37\u001b[0m \u001b[32m━━━━━━━━━━━━━━━━━━━━\u001b[0m\u001b[37m\u001b[0m \u001b[1m0s\u001b[0m 2ms/step - Attrition_Output_accuracy: 0.8456 - Attrition_Output_loss: 0.4327 - Department_Output_accuracy: 0.6597 - Department_Output_loss: 0.7430 - loss: 1.1758 - val_Attrition_Output_accuracy: 0.8027 - val_Attrition_Output_loss: 0.4846 - val_Department_Output_accuracy: 0.6327 - val_Department_Output_loss: 0.7549 - val_loss: 1.2610\n",
      "Epoch 5/50\n",
      "\u001b[1m37/37\u001b[0m \u001b[32m━━━━━━━━━━━━━━━━━━━━\u001b[0m\u001b[37m\u001b[0m \u001b[1m0s\u001b[0m 2ms/step - Attrition_Output_accuracy: 0.8590 - Attrition_Output_loss: 0.3926 - Department_Output_accuracy: 0.6491 - Department_Output_loss: 0.7727 - loss: 1.1652 - val_Attrition_Output_accuracy: 0.8027 - val_Attrition_Output_loss: 0.4761 - val_Department_Output_accuracy: 0.6327 - val_Department_Output_loss: 0.7582 - val_loss: 1.2555\n",
      "Epoch 6/50\n",
      "\u001b[1m37/37\u001b[0m \u001b[32m━━━━━━━━━━━━━━━━━━━━\u001b[0m\u001b[37m\u001b[0m \u001b[1m0s\u001b[0m 2ms/step - Attrition_Output_accuracy: 0.8481 - Attrition_Output_loss: 0.4047 - Department_Output_accuracy: 0.6509 - Department_Output_loss: 0.7433 - loss: 1.1481 - val_Attrition_Output_accuracy: 0.8027 - val_Attrition_Output_loss: 0.4684 - val_Department_Output_accuracy: 0.6395 - val_Department_Output_loss: 0.7505 - val_loss: 1.2423\n",
      "Epoch 7/50\n",
      "\u001b[1m37/37\u001b[0m \u001b[32m━━━━━━━━━━━━━━━━━━━━\u001b[0m\u001b[37m\u001b[0m \u001b[1m0s\u001b[0m 2ms/step - Attrition_Output_accuracy: 0.8341 - Attrition_Output_loss: 0.4281 - Department_Output_accuracy: 0.6462 - Department_Output_loss: 0.7541 - loss: 1.1822 - val_Attrition_Output_accuracy: 0.8027 - val_Attrition_Output_loss: 0.4663 - val_Department_Output_accuracy: 0.6361 - val_Department_Output_loss: 0.7565 - val_loss: 1.2487\n",
      "Epoch 8/50\n",
      "\u001b[1m37/37\u001b[0m \u001b[32m━━━━━━━━━━━━━━━━━━━━\u001b[0m\u001b[37m\u001b[0m \u001b[1m0s\u001b[0m 2ms/step - Attrition_Output_accuracy: 0.8532 - Attrition_Output_loss: 0.3847 - Department_Output_accuracy: 0.6850 - Department_Output_loss: 0.7113 - loss: 1.0961 - val_Attrition_Output_accuracy: 0.8027 - val_Attrition_Output_loss: 0.4630 - val_Department_Output_accuracy: 0.6395 - val_Department_Output_loss: 0.7553 - val_loss: 1.2428\n",
      "Epoch 9/50\n",
      "\u001b[1m37/37\u001b[0m \u001b[32m━━━━━━━━━━━━━━━━━━━━\u001b[0m\u001b[37m\u001b[0m \u001b[1m0s\u001b[0m 2ms/step - Attrition_Output_accuracy: 0.8382 - Attrition_Output_loss: 0.4196 - Department_Output_accuracy: 0.6573 - Department_Output_loss: 0.7068 - loss: 1.1262 - val_Attrition_Output_accuracy: 0.8027 - val_Attrition_Output_loss: 0.4610 - val_Department_Output_accuracy: 0.6429 - val_Department_Output_loss: 0.7527 - val_loss: 1.2396\n",
      "Epoch 10/50\n",
      "\u001b[1m37/37\u001b[0m \u001b[32m━━━━━━━━━━━━━━━━━━━━\u001b[0m\u001b[37m\u001b[0m \u001b[1m0s\u001b[0m 2ms/step - Attrition_Output_accuracy: 0.8505 - Attrition_Output_loss: 0.3910 - Department_Output_accuracy: 0.6798 - Department_Output_loss: 0.7008 - loss: 1.0919 - val_Attrition_Output_accuracy: 0.8027 - val_Attrition_Output_loss: 0.4513 - val_Department_Output_accuracy: 0.6429 - val_Department_Output_loss: 0.7572 - val_loss: 1.2328\n",
      "Epoch 11/50\n",
      "\u001b[1m37/37\u001b[0m \u001b[32m━━━━━━━━━━━━━━━━━━━━\u001b[0m\u001b[37m\u001b[0m \u001b[1m0s\u001b[0m 2ms/step - Attrition_Output_accuracy: 0.8307 - Attrition_Output_loss: 0.4102 - Department_Output_accuracy: 0.6684 - Department_Output_loss: 0.7168 - loss: 1.1270 - val_Attrition_Output_accuracy: 0.8027 - val_Attrition_Output_loss: 0.4673 - val_Department_Output_accuracy: 0.6361 - val_Department_Output_loss: 0.7618 - val_loss: 1.2587\n",
      "Epoch 12/50\n",
      "\u001b[1m37/37\u001b[0m \u001b[32m━━━━━━━━━━━━━━━━━━━━\u001b[0m\u001b[37m\u001b[0m \u001b[1m0s\u001b[0m 2ms/step - Attrition_Output_accuracy: 0.8378 - Attrition_Output_loss: 0.4003 - Department_Output_accuracy: 0.6621 - Department_Output_loss: 0.7028 - loss: 1.1030 - val_Attrition_Output_accuracy: 0.8027 - val_Attrition_Output_loss: 0.4489 - val_Department_Output_accuracy: 0.6395 - val_Department_Output_loss: 0.7631 - val_loss: 1.2394\n",
      "Epoch 13/50\n",
      "\u001b[1m37/37\u001b[0m \u001b[32m━━━━━━━━━━━━━━━━━━━━\u001b[0m\u001b[37m\u001b[0m \u001b[1m0s\u001b[0m 2ms/step - Attrition_Output_accuracy: 0.8536 - Attrition_Output_loss: 0.3676 - Department_Output_accuracy: 0.6964 - Department_Output_loss: 0.6678 - loss: 1.0353 - val_Attrition_Output_accuracy: 0.7993 - val_Attrition_Output_loss: 0.4516 - val_Department_Output_accuracy: 0.6463 - val_Department_Output_loss: 0.7617 - val_loss: 1.2385\n",
      "Epoch 14/50\n",
      "\u001b[1m37/37\u001b[0m \u001b[32m━━━━━━━━━━━━━━━━━━━━\u001b[0m\u001b[37m\u001b[0m \u001b[1m0s\u001b[0m 2ms/step - Attrition_Output_accuracy: 0.8345 - Attrition_Output_loss: 0.3935 - Department_Output_accuracy: 0.7089 - Department_Output_loss: 0.6615 - loss: 1.0548 - val_Attrition_Output_accuracy: 0.7993 - val_Attrition_Output_loss: 0.4696 - val_Department_Output_accuracy: 0.6327 - val_Department_Output_loss: 0.7618 - val_loss: 1.2594\n",
      "Epoch 15/50\n",
      "\u001b[1m37/37\u001b[0m \u001b[32m━━━━━━━━━━━━━━━━━━━━\u001b[0m\u001b[37m\u001b[0m \u001b[1m0s\u001b[0m 2ms/step - Attrition_Output_accuracy: 0.8552 - Attrition_Output_loss: 0.3560 - Department_Output_accuracy: 0.7045 - Department_Output_loss: 0.6610 - loss: 1.0169 - val_Attrition_Output_accuracy: 0.8061 - val_Attrition_Output_loss: 0.4541 - val_Department_Output_accuracy: 0.6463 - val_Department_Output_loss: 0.7808 - val_loss: 1.2631\n",
      "Epoch 16/50\n",
      "\u001b[1m37/37\u001b[0m \u001b[32m━━━━━━━━━━━━━━━━━━━━\u001b[0m\u001b[37m\u001b[0m \u001b[1m0s\u001b[0m 2ms/step - Attrition_Output_accuracy: 0.8535 - Attrition_Output_loss: 0.3581 - Department_Output_accuracy: 0.7138 - Department_Output_loss: 0.6515 - loss: 1.0096 - val_Attrition_Output_accuracy: 0.8027 - val_Attrition_Output_loss: 0.4592 - val_Department_Output_accuracy: 0.6497 - val_Department_Output_loss: 0.7715 - val_loss: 1.2592\n",
      "Epoch 17/50\n",
      "\u001b[1m37/37\u001b[0m \u001b[32m━━━━━━━━━━━━━━━━━━━━\u001b[0m\u001b[37m\u001b[0m \u001b[1m0s\u001b[0m 2ms/step - Attrition_Output_accuracy: 0.8595 - Attrition_Output_loss: 0.3483 - Department_Output_accuracy: 0.7201 - Department_Output_loss: 0.6685 - loss: 1.0168 - val_Attrition_Output_accuracy: 0.8061 - val_Attrition_Output_loss: 0.4530 - val_Department_Output_accuracy: 0.6224 - val_Department_Output_loss: 0.7715 - val_loss: 1.2522\n",
      "Epoch 18/50\n",
      "\u001b[1m37/37\u001b[0m \u001b[32m━━━━━━━━━━━━━━━━━━━━\u001b[0m\u001b[37m\u001b[0m \u001b[1m0s\u001b[0m 2ms/step - Attrition_Output_accuracy: 0.8434 - Attrition_Output_loss: 0.3666 - Department_Output_accuracy: 0.7296 - Department_Output_loss: 0.6314 - loss: 0.9979 - val_Attrition_Output_accuracy: 0.8027 - val_Attrition_Output_loss: 0.4724 - val_Department_Output_accuracy: 0.6429 - val_Department_Output_loss: 0.7780 - val_loss: 1.2755\n",
      "Epoch 19/50\n",
      "\u001b[1m37/37\u001b[0m \u001b[32m━━━━━━━━━━━━━━━━━━━━\u001b[0m\u001b[37m\u001b[0m \u001b[1m0s\u001b[0m 2ms/step - Attrition_Output_accuracy: 0.8481 - Attrition_Output_loss: 0.3830 - Department_Output_accuracy: 0.7431 - Department_Output_loss: 0.6265 - loss: 1.0095 - val_Attrition_Output_accuracy: 0.8095 - val_Attrition_Output_loss: 0.4582 - val_Department_Output_accuracy: 0.5884 - val_Department_Output_loss: 0.7832 - val_loss: 1.2703\n",
      "Epoch 20/50\n",
      "\u001b[1m37/37\u001b[0m \u001b[32m━━━━━━━━━━━━━━━━━━━━\u001b[0m\u001b[37m\u001b[0m \u001b[1m0s\u001b[0m 2ms/step - Attrition_Output_accuracy: 0.8562 - Attrition_Output_loss: 0.3514 - Department_Output_accuracy: 0.7347 - Department_Output_loss: 0.6433 - loss: 0.9947 - val_Attrition_Output_accuracy: 0.8129 - val_Attrition_Output_loss: 0.4638 - val_Department_Output_accuracy: 0.6020 - val_Department_Output_loss: 0.7847 - val_loss: 1.2790\n",
      "Epoch 21/50\n",
      "\u001b[1m37/37\u001b[0m \u001b[32m━━━━━━━━━━━━━━━━━━━━\u001b[0m\u001b[37m\u001b[0m \u001b[1m0s\u001b[0m 2ms/step - Attrition_Output_accuracy: 0.8494 - Attrition_Output_loss: 0.3622 - Department_Output_accuracy: 0.7375 - Department_Output_loss: 0.6251 - loss: 0.9873 - val_Attrition_Output_accuracy: 0.8129 - val_Attrition_Output_loss: 0.4694 - val_Department_Output_accuracy: 0.6122 - val_Department_Output_loss: 0.7929 - val_loss: 1.2905\n",
      "Epoch 22/50\n",
      "\u001b[1m37/37\u001b[0m \u001b[32m━━━━━━━━━━━━━━━━━━━━\u001b[0m\u001b[37m\u001b[0m \u001b[1m0s\u001b[0m 2ms/step - Attrition_Output_accuracy: 0.8615 - Attrition_Output_loss: 0.3499 - Department_Output_accuracy: 0.7536 - Department_Output_loss: 0.6116 - loss: 0.9615 - val_Attrition_Output_accuracy: 0.8095 - val_Attrition_Output_loss: 0.4634 - val_Department_Output_accuracy: 0.6293 - val_Department_Output_loss: 0.8006 - val_loss: 1.2884\n",
      "Epoch 23/50\n",
      "\u001b[1m37/37\u001b[0m \u001b[32m━━━━━━━━━━━━━━━━━━━━\u001b[0m\u001b[37m\u001b[0m \u001b[1m0s\u001b[0m 2ms/step - Attrition_Output_accuracy: 0.8452 - Attrition_Output_loss: 0.3765 - Department_Output_accuracy: 0.7432 - Department_Output_loss: 0.6101 - loss: 0.9866 - val_Attrition_Output_accuracy: 0.8095 - val_Attrition_Output_loss: 0.4735 - val_Department_Output_accuracy: 0.6224 - val_Department_Output_loss: 0.8111 - val_loss: 1.3093\n",
      "Epoch 24/50\n",
      "\u001b[1m37/37\u001b[0m \u001b[32m━━━━━━━━━━━━━━━━━━━━\u001b[0m\u001b[37m\u001b[0m \u001b[1m0s\u001b[0m 2ms/step - Attrition_Output_accuracy: 0.8611 - Attrition_Output_loss: 0.3499 - Department_Output_accuracy: 0.7441 - Department_Output_loss: 0.5959 - loss: 0.9457 - val_Attrition_Output_accuracy: 0.8095 - val_Attrition_Output_loss: 0.4705 - val_Department_Output_accuracy: 0.6497 - val_Department_Output_loss: 0.8153 - val_loss: 1.3158\n",
      "Epoch 25/50\n",
      "\u001b[1m37/37\u001b[0m \u001b[32m━━━━━━━━━━━━━━━━━━━━\u001b[0m\u001b[37m\u001b[0m \u001b[1m0s\u001b[0m 2ms/step - Attrition_Output_accuracy: 0.8437 - Attrition_Output_loss: 0.3695 - Department_Output_accuracy: 0.7626 - Department_Output_loss: 0.5630 - loss: 0.9324 - val_Attrition_Output_accuracy: 0.8027 - val_Attrition_Output_loss: 0.4823 - val_Department_Output_accuracy: 0.6088 - val_Department_Output_loss: 0.8152 - val_loss: 1.3247\n",
      "Epoch 26/50\n",
      "\u001b[1m37/37\u001b[0m \u001b[32m━━━━━━━━━━━━━━━━━━━━\u001b[0m\u001b[37m\u001b[0m \u001b[1m0s\u001b[0m 2ms/step - Attrition_Output_accuracy: 0.8663 - Attrition_Output_loss: 0.3280 - Department_Output_accuracy: 0.7557 - Department_Output_loss: 0.6050 - loss: 0.9329 - val_Attrition_Output_accuracy: 0.8061 - val_Attrition_Output_loss: 0.4717 - val_Department_Output_accuracy: 0.6088 - val_Department_Output_loss: 0.8186 - val_loss: 1.3188\n",
      "Epoch 27/50\n",
      "\u001b[1m37/37\u001b[0m \u001b[32m━━━━━━━━━━━━━━━━━━━━\u001b[0m\u001b[37m\u001b[0m \u001b[1m0s\u001b[0m 2ms/step - Attrition_Output_accuracy: 0.8550 - Attrition_Output_loss: 0.3453 - Department_Output_accuracy: 0.7738 - Department_Output_loss: 0.5658 - loss: 0.9110 - val_Attrition_Output_accuracy: 0.8129 - val_Attrition_Output_loss: 0.4793 - val_Department_Output_accuracy: 0.6122 - val_Department_Output_loss: 0.8310 - val_loss: 1.3327\n",
      "Epoch 28/50\n",
      "\u001b[1m37/37\u001b[0m \u001b[32m━━━━━━━━━━━━━━━━━━━━\u001b[0m\u001b[37m\u001b[0m \u001b[1m0s\u001b[0m 2ms/step - Attrition_Output_accuracy: 0.8629 - Attrition_Output_loss: 0.3454 - Department_Output_accuracy: 0.7799 - Department_Output_loss: 0.5686 - loss: 0.9140 - val_Attrition_Output_accuracy: 0.8129 - val_Attrition_Output_loss: 0.4798 - val_Department_Output_accuracy: 0.5646 - val_Department_Output_loss: 0.8178 - val_loss: 1.3276\n",
      "Epoch 29/50\n",
      "\u001b[1m37/37\u001b[0m \u001b[32m━━━━━━━━━━━━━━━━━━━━\u001b[0m\u001b[37m\u001b[0m \u001b[1m0s\u001b[0m 2ms/step - Attrition_Output_accuracy: 0.8665 - Attrition_Output_loss: 0.3423 - Department_Output_accuracy: 0.7781 - Department_Output_loss: 0.5823 - loss: 0.9246 - val_Attrition_Output_accuracy: 0.8163 - val_Attrition_Output_loss: 0.4827 - val_Department_Output_accuracy: 0.5816 - val_Department_Output_loss: 0.8310 - val_loss: 1.3451\n",
      "Epoch 30/50\n",
      "\u001b[1m37/37\u001b[0m \u001b[32m━━━━━━━━━━━━━━━━━━━━\u001b[0m\u001b[37m\u001b[0m \u001b[1m0s\u001b[0m 2ms/step - Attrition_Output_accuracy: 0.8746 - Attrition_Output_loss: 0.3166 - Department_Output_accuracy: 0.7771 - Department_Output_loss: 0.5579 - loss: 0.8746 - val_Attrition_Output_accuracy: 0.8129 - val_Attrition_Output_loss: 0.4955 - val_Department_Output_accuracy: 0.5884 - val_Department_Output_loss: 0.8379 - val_loss: 1.3605\n",
      "Epoch 31/50\n",
      "\u001b[1m37/37\u001b[0m \u001b[32m━━━━━━━━━━━━━━━━━━━━\u001b[0m\u001b[37m\u001b[0m \u001b[1m0s\u001b[0m 2ms/step - Attrition_Output_accuracy: 0.8597 - Attrition_Output_loss: 0.3350 - Department_Output_accuracy: 0.7841 - Department_Output_loss: 0.5423 - loss: 0.8773 - val_Attrition_Output_accuracy: 0.8163 - val_Attrition_Output_loss: 0.4855 - val_Department_Output_accuracy: 0.6054 - val_Department_Output_loss: 0.8367 - val_loss: 1.3544\n",
      "Epoch 32/50\n",
      "\u001b[1m37/37\u001b[0m \u001b[32m━━━━━━━━━━━━━━━━━━━━\u001b[0m\u001b[37m\u001b[0m \u001b[1m0s\u001b[0m 2ms/step - Attrition_Output_accuracy: 0.8654 - Attrition_Output_loss: 0.3230 - Department_Output_accuracy: 0.7825 - Department_Output_loss: 0.5454 - loss: 0.8684 - val_Attrition_Output_accuracy: 0.8163 - val_Attrition_Output_loss: 0.5005 - val_Department_Output_accuracy: 0.5510 - val_Department_Output_loss: 0.8545 - val_loss: 1.3805\n",
      "Epoch 33/50\n",
      "\u001b[1m37/37\u001b[0m \u001b[32m━━━━━━━━━━━━━━━━━━━━\u001b[0m\u001b[37m\u001b[0m \u001b[1m0s\u001b[0m 2ms/step - Attrition_Output_accuracy: 0.8563 - Attrition_Output_loss: 0.3489 - Department_Output_accuracy: 0.7849 - Department_Output_loss: 0.5605 - loss: 0.9094 - val_Attrition_Output_accuracy: 0.8095 - val_Attrition_Output_loss: 0.4994 - val_Department_Output_accuracy: 0.5918 - val_Department_Output_loss: 0.8625 - val_loss: 1.3927\n",
      "Epoch 34/50\n",
      "\u001b[1m37/37\u001b[0m \u001b[32m━━━━━━━━━━━━━━━━━━━━\u001b[0m\u001b[37m\u001b[0m \u001b[1m0s\u001b[0m 2ms/step - Attrition_Output_accuracy: 0.8510 - Attrition_Output_loss: 0.3423 - Department_Output_accuracy: 0.7762 - Department_Output_loss: 0.5590 - loss: 0.9013 - val_Attrition_Output_accuracy: 0.8163 - val_Attrition_Output_loss: 0.4983 - val_Department_Output_accuracy: 0.5816 - val_Department_Output_loss: 0.8609 - val_loss: 1.3892\n",
      "Epoch 35/50\n",
      "\u001b[1m37/37\u001b[0m \u001b[32m━━━━━━━━━━━━━━━━━━━━\u001b[0m\u001b[37m\u001b[0m \u001b[1m0s\u001b[0m 2ms/step - Attrition_Output_accuracy: 0.8480 - Attrition_Output_loss: 0.3514 - Department_Output_accuracy: 0.7795 - Department_Output_loss: 0.5379 - loss: 0.8893 - val_Attrition_Output_accuracy: 0.8061 - val_Attrition_Output_loss: 0.5021 - val_Department_Output_accuracy: 0.6054 - val_Department_Output_loss: 0.8890 - val_loss: 1.4245\n",
      "Epoch 36/50\n",
      "\u001b[1m37/37\u001b[0m \u001b[32m━━━━━━━━━━━━━━━━━━━━\u001b[0m\u001b[37m\u001b[0m \u001b[1m0s\u001b[0m 2ms/step - Attrition_Output_accuracy: 0.8590 - Attrition_Output_loss: 0.3385 - Department_Output_accuracy: 0.7941 - Department_Output_loss: 0.5257 - loss: 0.8643 - val_Attrition_Output_accuracy: 0.8027 - val_Attrition_Output_loss: 0.4949 - val_Department_Output_accuracy: 0.5612 - val_Department_Output_loss: 0.8828 - val_loss: 1.4059\n",
      "Epoch 37/50\n",
      "\u001b[1m37/37\u001b[0m \u001b[32m━━━━━━━━━━━━━━━━━━━━\u001b[0m\u001b[37m\u001b[0m \u001b[1m0s\u001b[0m 2ms/step - Attrition_Output_accuracy: 0.8581 - Attrition_Output_loss: 0.3457 - Department_Output_accuracy: 0.7922 - Department_Output_loss: 0.5281 - loss: 0.8738 - val_Attrition_Output_accuracy: 0.8027 - val_Attrition_Output_loss: 0.4975 - val_Department_Output_accuracy: 0.5680 - val_Department_Output_loss: 0.8900 - val_loss: 1.4219\n",
      "Epoch 38/50\n",
      "\u001b[1m37/37\u001b[0m \u001b[32m━━━━━━━━━━━━━━━━━━━━\u001b[0m\u001b[37m\u001b[0m \u001b[1m0s\u001b[0m 2ms/step - Attrition_Output_accuracy: 0.8678 - Attrition_Output_loss: 0.3158 - Department_Output_accuracy: 0.8102 - Department_Output_loss: 0.4917 - loss: 0.8073 - val_Attrition_Output_accuracy: 0.7959 - val_Attrition_Output_loss: 0.4957 - val_Department_Output_accuracy: 0.5476 - val_Department_Output_loss: 0.9008 - val_loss: 1.4231\n",
      "Epoch 39/50\n",
      "\u001b[1m37/37\u001b[0m \u001b[32m━━━━━━━━━━━━━━━━━━━━\u001b[0m\u001b[37m\u001b[0m \u001b[1m0s\u001b[0m 2ms/step - Attrition_Output_accuracy: 0.8702 - Attrition_Output_loss: 0.3211 - Department_Output_accuracy: 0.8170 - Department_Output_loss: 0.4993 - loss: 0.8205 - val_Attrition_Output_accuracy: 0.8129 - val_Attrition_Output_loss: 0.5034 - val_Department_Output_accuracy: 0.5714 - val_Department_Output_loss: 0.9182 - val_loss: 1.4429\n",
      "Epoch 40/50\n",
      "\u001b[1m37/37\u001b[0m \u001b[32m━━━━━━━━━━━━━━━━━━━━\u001b[0m\u001b[37m\u001b[0m \u001b[1m0s\u001b[0m 2ms/step - Attrition_Output_accuracy: 0.8720 - Attrition_Output_loss: 0.3190 - Department_Output_accuracy: 0.7973 - Department_Output_loss: 0.4870 - loss: 0.8059 - val_Attrition_Output_accuracy: 0.8061 - val_Attrition_Output_loss: 0.5040 - val_Department_Output_accuracy: 0.5646 - val_Department_Output_loss: 0.9130 - val_loss: 1.4470\n",
      "Epoch 41/50\n",
      "\u001b[1m37/37\u001b[0m \u001b[32m━━━━━━━━━━━━━━━━━━━━\u001b[0m\u001b[37m\u001b[0m \u001b[1m0s\u001b[0m 2ms/step - Attrition_Output_accuracy: 0.8812 - Attrition_Output_loss: 0.3119 - Department_Output_accuracy: 0.8218 - Department_Output_loss: 0.4771 - loss: 0.7889 - val_Attrition_Output_accuracy: 0.8061 - val_Attrition_Output_loss: 0.5012 - val_Department_Output_accuracy: 0.5714 - val_Department_Output_loss: 0.9118 - val_loss: 1.4516\n",
      "Epoch 42/50\n",
      "\u001b[1m37/37\u001b[0m \u001b[32m━━━━━━━━━━━━━━━━━━━━\u001b[0m\u001b[37m\u001b[0m \u001b[1m0s\u001b[0m 2ms/step - Attrition_Output_accuracy: 0.8604 - Attrition_Output_loss: 0.3201 - Department_Output_accuracy: 0.8408 - Department_Output_loss: 0.4410 - loss: 0.7611 - val_Attrition_Output_accuracy: 0.8061 - val_Attrition_Output_loss: 0.5043 - val_Department_Output_accuracy: 0.5476 - val_Department_Output_loss: 0.9414 - val_loss: 1.4671\n",
      "Epoch 43/50\n",
      "\u001b[1m37/37\u001b[0m \u001b[32m━━━━━━━━━━━━━━━━━━━━\u001b[0m\u001b[37m\u001b[0m \u001b[1m0s\u001b[0m 2ms/step - Attrition_Output_accuracy: 0.8638 - Attrition_Output_loss: 0.3395 - Department_Output_accuracy: 0.8189 - Department_Output_loss: 0.4838 - loss: 0.8234 - val_Attrition_Output_accuracy: 0.8095 - val_Attrition_Output_loss: 0.5201 - val_Department_Output_accuracy: 0.5612 - val_Department_Output_loss: 0.9541 - val_loss: 1.5008\n",
      "Epoch 44/50\n",
      "\u001b[1m37/37\u001b[0m \u001b[32m━━━━━━━━━━━━━━━━━━━━\u001b[0m\u001b[37m\u001b[0m \u001b[1m0s\u001b[0m 2ms/step - Attrition_Output_accuracy: 0.8497 - Attrition_Output_loss: 0.3314 - Department_Output_accuracy: 0.8077 - Department_Output_loss: 0.4635 - loss: 0.7949 - val_Attrition_Output_accuracy: 0.8129 - val_Attrition_Output_loss: 0.5168 - val_Department_Output_accuracy: 0.5612 - val_Department_Output_loss: 0.9631 - val_loss: 1.5057\n",
      "Epoch 45/50\n",
      "\u001b[1m37/37\u001b[0m \u001b[32m━━━━━━━━━━━━━━━━━━━━\u001b[0m\u001b[37m\u001b[0m \u001b[1m0s\u001b[0m 2ms/step - Attrition_Output_accuracy: 0.8802 - Attrition_Output_loss: 0.3107 - Department_Output_accuracy: 0.8227 - Department_Output_loss: 0.4505 - loss: 0.7612 - val_Attrition_Output_accuracy: 0.8061 - val_Attrition_Output_loss: 0.5122 - val_Department_Output_accuracy: 0.5476 - val_Department_Output_loss: 0.9692 - val_loss: 1.5188\n",
      "Epoch 46/50\n",
      "\u001b[1m37/37\u001b[0m \u001b[32m━━━━━━━━━━━━━━━━━━━━\u001b[0m\u001b[37m\u001b[0m \u001b[1m0s\u001b[0m 2ms/step - Attrition_Output_accuracy: 0.8734 - Attrition_Output_loss: 0.3149 - Department_Output_accuracy: 0.8182 - Department_Output_loss: 0.4531 - loss: 0.7680 - val_Attrition_Output_accuracy: 0.8061 - val_Attrition_Output_loss: 0.5190 - val_Department_Output_accuracy: 0.5646 - val_Department_Output_loss: 0.9589 - val_loss: 1.5094\n",
      "Epoch 47/50\n",
      "\u001b[1m37/37\u001b[0m \u001b[32m━━━━━━━━━━━━━━━━━━━━\u001b[0m\u001b[37m\u001b[0m \u001b[1m0s\u001b[0m 2ms/step - Attrition_Output_accuracy: 0.8724 - Attrition_Output_loss: 0.3001 - Department_Output_accuracy: 0.8307 - Department_Output_loss: 0.4190 - loss: 0.7190 - val_Attrition_Output_accuracy: 0.8027 - val_Attrition_Output_loss: 0.5088 - val_Department_Output_accuracy: 0.5510 - val_Department_Output_loss: 0.9897 - val_loss: 1.5241\n",
      "Epoch 48/50\n",
      "\u001b[1m37/37\u001b[0m \u001b[32m━━━━━━━━━━━━━━━━━━━━\u001b[0m\u001b[37m\u001b[0m \u001b[1m0s\u001b[0m 2ms/step - Attrition_Output_accuracy: 0.8700 - Attrition_Output_loss: 0.3175 - Department_Output_accuracy: 0.8333 - Department_Output_loss: 0.4284 - loss: 0.7458 - val_Attrition_Output_accuracy: 0.8027 - val_Attrition_Output_loss: 0.5218 - val_Department_Output_accuracy: 0.5408 - val_Department_Output_loss: 1.0001 - val_loss: 1.5597\n",
      "Epoch 49/50\n",
      "\u001b[1m37/37\u001b[0m \u001b[32m━━━━━━━━━━━━━━━━━━━━\u001b[0m\u001b[37m\u001b[0m \u001b[1m0s\u001b[0m 2ms/step - Attrition_Output_accuracy: 0.8759 - Attrition_Output_loss: 0.2960 - Department_Output_accuracy: 0.8358 - Department_Output_loss: 0.4278 - loss: 0.7239 - val_Attrition_Output_accuracy: 0.7993 - val_Attrition_Output_loss: 0.5116 - val_Department_Output_accuracy: 0.5476 - val_Department_Output_loss: 0.9835 - val_loss: 1.5311\n",
      "Epoch 50/50\n",
      "\u001b[1m37/37\u001b[0m \u001b[32m━━━━━━━━━━━━━━━━━━━━\u001b[0m\u001b[37m\u001b[0m \u001b[1m0s\u001b[0m 2ms/step - Attrition_Output_accuracy: 0.8911 - Attrition_Output_loss: 0.2856 - Department_Output_accuracy: 0.8318 - Department_Output_loss: 0.4264 - loss: 0.7118 - val_Attrition_Output_accuracy: 0.8095 - val_Attrition_Output_loss: 0.5318 - val_Department_Output_accuracy: 0.5646 - val_Department_Output_loss: 1.0124 - val_loss: 1.5849\n"
     ]
    }
   ],
   "source": [
    "# Train the model\n",
    "history = model.fit(\n",
    "    X_train_scaled,\n",
    "    {\"Department_Output\": dept_train, \"Attrition_Output\": attrition_train},\n",
    "    epochs=50,\n",
    "    validation_data=(\n",
    "        X_test_scaled,\n",
    "        {\"Department_Output\": dept_test, \"Attrition_Output\": attrition_test},\n",
    "    ),\n",
    ")"
   ]
  },
  {
   "cell_type": "code",
   "execution_count": 37,
   "metadata": {
    "colab": {
     "base_uri": "https://localhost:8080/"
    },
    "id": "VsMoaQlgGc3U",
    "outputId": "1bd4e601-e964-4abc-ad83-aeecf6b696be"
   },
   "outputs": [
    {
     "name": "stdout",
     "output_type": "stream",
     "text": [
      "\u001b[1m10/10\u001b[0m \u001b[32m━━━━━━━━━━━━━━━━━━━━\u001b[0m\u001b[37m\u001b[0m \u001b[1m0s\u001b[0m 2ms/step - Attrition_Output_accuracy: 0.7902 - Attrition_Output_loss: 0.5614 - Department_Output_accuracy: 0.5724 - Department_Output_loss: 1.0541 - loss: 1.6229 \n"
     ]
    }
   ],
   "source": [
    "# Evaluate the model with the testing data\n",
    "model_evaluation = model.evaluate(\n",
    "    X_test_scaled,\n",
    "    {\"Department_Output\": dept_test, \"Attrition_Output\": attrition_test},\n",
    ")"
   ]
  },
  {
   "cell_type": "code",
   "execution_count": 39,
   "metadata": {
    "colab": {
     "base_uri": "https://localhost:8080/"
    },
    "id": "ZlCtlHi0Vt54",
    "outputId": "bc21ef3e-80c2-4b38-9c29-79515bc23dec"
   },
   "outputs": [
    {
     "name": "stdout",
     "output_type": "stream",
     "text": [
      "Department Accuracy: 0.81\n",
      "Attrition Accuracy: 0.56\n"
     ]
    }
   ],
   "source": [
    "# Print the accuracy for both department and attrition\n",
    "print(f\"Department Accuracy: {model_evaluation[3]:.2f}\")\n",
    "print(f\"Attrition Accuracy: {model_evaluation[4]:.2f}\")"
   ]
  },
  {
   "cell_type": "markdown",
   "metadata": {
    "id": "eGSyfsZfWOQM"
   },
   "source": [
    "# Summary\n",
    "\n",
    "In the provided space below, briefly answer the following questions.\n",
    "\n",
    "1. Is accuracy the best metric to use on this data? Why or why not?\n",
    "\n",
    "2. What activation functions did you choose for your output layers, and why?\n",
    "\n",
    "3. Can you name a few ways that this model might be improved?"
   ]
  },
  {
   "cell_type": "markdown",
   "metadata": {
    "id": "pi9SLpFnWvbF"
   },
   "source": [
    "YOUR ANSWERS HERE\n",
    "\n",
    "1. Accuracy is a good starting metric, but it may not be the best metric for this data. For the Attrition prediction, the dataset is likely imbalanced (e.g., fewer employees leaving than staying). In such cases, accuracy can be misleading because the model might simply predict the majority class to achieve high accuracy. Instead, metrics like precision, recall, or the F1-score would provide better insight into the model's performance, especially for minority classes.\n",
    "\n",
    "For the Department prediction, if all classes are balanced, accuracy is a reasonable metric. However, a confusion matrix or per-class accuracy might provide more actionable insights.\n",
    "\n",
    "2. For the Attrition output layer, I used the sigmoid activation function because it’s a binary classification task, and sigmoid outputs probabilities between 0 and 1, making it ideal for predicting whether an employee will leave or stay. For the Department output layer, I used the softmax activation function because it’s a multiclass classification task, and softmax ensures the outputs represent probabilities across all possible departments, summing to 1.\n",
    "\n",
    "3. The model could be improved by including more relevant features, such as satisfaction scores or historical job roles, while removing irrelevant ones through feature selection. Additionally, tuning the model’s hyperparameters, such as the number of neurons, layers, and activation functions, or applying techniques like dropout layers to prevent overfitting, could improve performance. For imbalanced data like Attrition, balancing the dataset using oversampling or undersampling techniques would help, and increasing training epochs while using early stopping could lead to better generalization."
   ]
  },
  {
   "cell_type": "markdown",
   "metadata": {},
   "source": []
  }
 ],
 "metadata": {
  "colab": {
   "provenance": []
  },
  "kernelspec": {
   "display_name": "Python 3 (ipykernel)",
   "language": "python",
   "name": "python3"
  },
  "language_info": {
   "codemirror_mode": {
    "name": "ipython",
    "version": 3
   },
   "file_extension": ".py",
   "mimetype": "text/x-python",
   "name": "python",
   "nbconvert_exporter": "python",
   "pygments_lexer": "ipython3",
   "version": "3.12.2"
  },
  "vscode": {
   "interpreter": {
    "hash": "31f2aee4e71d21fbe5cf8b01ff0e069b9275f58929596ceb00d14d90e3e16cd6"
   }
  }
 },
 "nbformat": 4,
 "nbformat_minor": 4
}
